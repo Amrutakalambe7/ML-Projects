{
 "cells": [
  {
   "cell_type": "code",
   "execution_count": 1,
   "id": "7186658e-2b62-4ec3-94b4-77110c54fe84",
   "metadata": {},
   "outputs": [
    {
     "name": "stderr",
     "output_type": "stream",
     "text": [
      "C:\\Users\\Amruta\\.conda\\envs\\mytensor_env\\lib\\site-packages\\pyspark\\pandas\\__init__.py:50: UserWarning: 'PYARROW_IGNORE_TIMEZONE' environment variable was not set. It is required to set this environment variable to '1' in both driver and executor sides if you use pyarrow>=2.0.0. pandas-on-Spark will set it for you but it does not work if there is a Spark context already launched.\n",
      "  warnings.warn(\n"
     ]
    }
   ],
   "source": [
    "import yfinance as yf\n",
    "import numpy as np\n",
    "#import pandas as pd\n",
    "from sklearn.model_selection import train_test_split\n",
    "from sklearn.preprocessing import StandardScaler\n",
    "from sklearn.linear_model import LinearRegression, ElasticNet\n",
    "from sklearn.ensemble import RandomForestRegressor\n",
    "from sklearn.neighbors import KNeighborsRegressor\n",
    "from sklearn.metrics import r2_score, mean_squared_error\n",
    "from sklearn.model_selection import GridSearchCV\n",
    "from sklearn.pipeline import Pipeline\n",
    "from sklearn.impute import SimpleImputer\n",
    "from sklearn.compose import TransformedTargetRegressor\n",
    "from sklearn.preprocessing import FunctionTransformer\n",
    "from tensorflow import keras\n",
    "from tensorflow.keras.models import Sequential\n",
    "from tensorflow.keras.layers import LSTM, Dense\n",
    "import matplotlib.pyplot as plt\n",
    "import seaborn as sns\n",
    "import mplfinance as mpf\n",
    "import pyspark.pandas as pd\n",
    "\n",
    "# Ignore warnings\n",
    "import warnings\n",
    "warnings.filterwarnings('ignore')"
   ]
  },
  {
   "cell_type": "code",
   "execution_count": 2,
   "id": "9e34b958-5fe6-46c0-a586-90b6d8cca7c9",
   "metadata": {},
   "outputs": [
    {
     "name": "stderr",
     "output_type": "stream",
     "text": [
      "[*********************100%%**********************]  1 of 1 completed\n"
     ]
    }
   ],
   "source": [
    "# Step 1: Fetch stock data using yfinance\n",
    "stock_symbol = '^NSEI'\n",
    "start_date = '2001-01-01'\n",
    "end_date = '2024-07-09'\n",
    "data = yf.download(stock_symbol, start = start_date, end=end_date)"
   ]
  },
  {
   "cell_type": "code",
   "execution_count": 3,
   "id": "263b29f5-73a9-4845-bab1-f189f9a56c44",
   "metadata": {},
   "outputs": [
    {
     "data": {
      "text/html": [
       "<div>\n",
       "<style scoped>\n",
       "    .dataframe tbody tr th:only-of-type {\n",
       "        vertical-align: middle;\n",
       "    }\n",
       "\n",
       "    .dataframe tbody tr th {\n",
       "        vertical-align: top;\n",
       "    }\n",
       "\n",
       "    .dataframe thead th {\n",
       "        text-align: right;\n",
       "    }\n",
       "</style>\n",
       "<table border=\"1\" class=\"dataframe\">\n",
       "  <thead>\n",
       "    <tr style=\"text-align: right;\">\n",
       "      <th></th>\n",
       "      <th>Open</th>\n",
       "      <th>High</th>\n",
       "      <th>Low</th>\n",
       "      <th>Close</th>\n",
       "      <th>Adj Close</th>\n",
       "      <th>Volume</th>\n",
       "    </tr>\n",
       "    <tr>\n",
       "      <th>Date</th>\n",
       "      <th></th>\n",
       "      <th></th>\n",
       "      <th></th>\n",
       "      <th></th>\n",
       "      <th></th>\n",
       "      <th></th>\n",
       "    </tr>\n",
       "  </thead>\n",
       "  <tbody>\n",
       "    <tr>\n",
       "      <th>2007-09-17</th>\n",
       "      <td>4518.450195</td>\n",
       "      <td>4549.049805</td>\n",
       "      <td>4482.850098</td>\n",
       "      <td>4494.649902</td>\n",
       "      <td>4494.649902</td>\n",
       "      <td>0</td>\n",
       "    </tr>\n",
       "    <tr>\n",
       "      <th>2007-09-18</th>\n",
       "      <td>4494.100098</td>\n",
       "      <td>4551.799805</td>\n",
       "      <td>4481.549805</td>\n",
       "      <td>4546.200195</td>\n",
       "      <td>4546.200195</td>\n",
       "      <td>0</td>\n",
       "    </tr>\n",
       "    <tr>\n",
       "      <th>2007-09-19</th>\n",
       "      <td>4550.250000</td>\n",
       "      <td>4739.000000</td>\n",
       "      <td>4550.250000</td>\n",
       "      <td>4732.350098</td>\n",
       "      <td>4732.350098</td>\n",
       "      <td>0</td>\n",
       "    </tr>\n",
       "    <tr>\n",
       "      <th>2007-09-20</th>\n",
       "      <td>4734.850098</td>\n",
       "      <td>4760.850098</td>\n",
       "      <td>4721.149902</td>\n",
       "      <td>4747.549805</td>\n",
       "      <td>4747.549805</td>\n",
       "      <td>0</td>\n",
       "    </tr>\n",
       "    <tr>\n",
       "      <th>2007-09-21</th>\n",
       "      <td>4752.950195</td>\n",
       "      <td>4855.700195</td>\n",
       "      <td>4733.700195</td>\n",
       "      <td>4837.549805</td>\n",
       "      <td>4837.549805</td>\n",
       "      <td>0</td>\n",
       "    </tr>\n",
       "  </tbody>\n",
       "</table>\n",
       "</div>"
      ],
      "text/plain": [
       "                   Open         High          Low        Close    Adj Close  \\\n",
       "Date                                                                          \n",
       "2007-09-17  4518.450195  4549.049805  4482.850098  4494.649902  4494.649902   \n",
       "2007-09-18  4494.100098  4551.799805  4481.549805  4546.200195  4546.200195   \n",
       "2007-09-19  4550.250000  4739.000000  4550.250000  4732.350098  4732.350098   \n",
       "2007-09-20  4734.850098  4760.850098  4721.149902  4747.549805  4747.549805   \n",
       "2007-09-21  4752.950195  4855.700195  4733.700195  4837.549805  4837.549805   \n",
       "\n",
       "            Volume  \n",
       "Date                \n",
       "2007-09-17       0  \n",
       "2007-09-18       0  \n",
       "2007-09-19       0  \n",
       "2007-09-20       0  \n",
       "2007-09-21       0  "
      ]
     },
     "execution_count": 3,
     "metadata": {},
     "output_type": "execute_result"
    }
   ],
   "source": [
    "data.head(5)"
   ]
  },
  {
   "cell_type": "code",
   "execution_count": 4,
   "id": "6a9b64d0-db7e-49fb-876f-db2ae30a266e",
   "metadata": {},
   "outputs": [
    {
     "data": {
      "image/png": "[encoded data removed]",
      "text/plain": [
       "<Figure size 1200x600 with 1 Axes>"
      ]
     },
     "metadata": {},
     "output_type": "display_data"
    }
   ],
   "source": [
    "# visualize Historical Prices\n",
    "plt.figure(figsize=(12,6))\n",
    "plt.plot(data.index, data['Close'], label= 'Closing Price')\n",
    "plt.xlabel('Date')\n",
    "plt.ylabel('Stock Price')\n",
    "plt.title('Historical Stock Prices')\n",
    "plt.legend()\n",
    "plt.show()"
   ]
  },
  {
   "cell_type": "markdown",
   "id": "a2a28112-d23a-4864-9345-1a3b8ce9d164",
   "metadata": {},
   "source": [
    "**Insights:**\n",
    "\n",
    "+ The Nifty 50 index has shown a strong long-term uptrend from 2001 to 2024, indicating overall growth in the Indian stock market over this period.\n",
    "\n",
    "+ A significant dip is noticeable around 2008, corresponding to the global financial crisis. This period saw a sharp decline in stock prices worldwide.\n",
    "\n",
    "+ Following the 2008 crisis, there was a recovery and subsequent growth phase, with the index steadily rising until around 2020.\n",
    "\n",
    "+ There is a noticeable dip around early 2020, reflecting the market's reaction to the COVID-19 pandemic. The sharp decline is followed by a rapid recovery, demonstrating resilience.\n",
    "\n",
    "+ From 2021 onwards, the index shows a strong upward trajectory, reaching new highs by mid-2024. This suggests robust economic recovery and growth post-pandemic.\n",
    "\n",
    "+ The latest part of the graph indicates that the index is at its highest point as of 2024, suggesting strong market confidence and potentially favorable economic conditions in India."
   ]
  },
  {
   "cell_type": "code",
   "execution_count": 5,
   "id": "61a3ea82-0c52-4bef-b15a-575030172f41",
   "metadata": {},
   "outputs": [
    {
     "name": "stdout",
     "output_type": "stream",
     "text": [
      "<class 'pandas.core.frame.DataFrame'>\n",
      "DatetimeIndex: 4118 entries, 2007-09-17 to 2024-07-08\n",
      "Data columns (total 6 columns):\n",
      " #   Column     Non-Null Count  Dtype  \n",
      "---  ------     --------------  -----  \n",
      " 0   Open       4118 non-null   float64\n",
      " 1   High       4118 non-null   float64\n",
      " 2   Low        4118 non-null   float64\n",
      " 3   Close      4118 non-null   float64\n",
      " 4   Adj Close  4118 non-null   float64\n",
      " 5   Volume     4118 non-null   int64  \n",
      "dtypes: float64(5), int64(1)\n",
      "memory usage: 225.2 KB\n"
     ]
    }
   ],
   "source": [
    "data.info()"
   ]
  },
  {
   "cell_type": "code",
   "execution_count": 6,
   "id": "1fe1d1c0-5ac7-4878-bcca-d418ae0d27bc",
   "metadata": {},
   "outputs": [
    {
     "data": {
      "text/plain": [
       "Open         0\n",
       "High         0\n",
       "Low          0\n",
       "Close        0\n",
       "Adj Close    0\n",
       "Volume       0\n",
       "dtype: int64"
      ]
     },
     "execution_count": 6,
     "metadata": {},
     "output_type": "execute_result"
    }
   ],
   "source": [
    "# checking Null Values\n",
    "data.isnull().sum() #/\n",
    "data.isna().sum()"
   ]
  },
  {
   "cell_type": "code",
   "execution_count": 7,
   "id": "30e68533-16cd-43c7-9a27-9b7afb726fb9",
   "metadata": {},
   "outputs": [
    {
     "data": {
      "text/plain": [
       "(4118, 6)"
      ]
     },
     "execution_count": 7,
     "metadata": {},
     "output_type": "execute_result"
    }
   ],
   "source": [
    "data.shape"
   ]
  },
  {
   "cell_type": "markdown",
   "id": "b70d9067-7240-4177-86f0-bd27a6218230",
   "metadata": {},
   "source": [
    "## Adding more derived columns for better result"
   ]
  },
  {
   "cell_type": "code",
   "execution_count": 8,
   "id": "99667cbd-e0d2-48d5-8536-5e60b5b71b19",
   "metadata": {},
   "outputs": [],
   "source": [
    "# Adding more derived column like Exponential Moving Averges (EMA)\n",
    "data['EMA_5'] = data['Close'].rolling(window=5).mean() \n",
    "# (This creates a rolling window of size 5. A rolling window means that for each point in time,it will consider the current value and the previous 4 \n",
    "# values (a total of 5 values).This calculates the mean (average) of the values within the rolling window. So, for each point in time, it will take the current value and the previous 4 values, then compute their average.)\n",
    "data['EMA_10'] = data['Close'].rolling(window=10).mean() \n",
    "data['EMA_20'] = data['Close'].rolling(window=20).mean() \n",
    "data['EMA_50'] = data['Close'].rolling(window=50).mean() \n",
    "data['EMA_100'] = data['Close'].rolling(window=100).mean() \n",
    "data['EMA_200'] = data['Close'].rolling(window=200).mean() "
   ]
  },
  {
   "cell_type": "code",
   "execution_count": 9,
   "id": "98d7b98a-4993-4125-bc27-1305df56cb2e",
   "metadata": {},
   "outputs": [
    {
     "data": {
      "text/plain": [
       "(4118, 12)"
      ]
     },
     "execution_count": 9,
     "metadata": {},
     "output_type": "execute_result"
    }
   ],
   "source": [
    "data.shape"
   ]
  },
  {
   "cell_type": "code",
   "execution_count": 10,
   "id": "cb32cda8-189f-47ac-b7c6-26dbe56e6c38",
   "metadata": {},
   "outputs": [
    {
     "data": {
      "text/plain": [
       "Open           0\n",
       "High           0\n",
       "Low            0\n",
       "Close          0\n",
       "Adj Close      0\n",
       "Volume         0\n",
       "EMA_5          4\n",
       "EMA_10         9\n",
       "EMA_20        19\n",
       "EMA_50        49\n",
       "EMA_100       99\n",
       "EMA_200      199\n",
       "dtype: int64"
      ]
     },
     "execution_count": 10,
     "metadata": {},
     "output_type": "execute_result"
    }
   ],
   "source": [
    "#checking null values\n",
    "data.isna().sum()"
   ]
  },
  {
   "cell_type": "code",
   "execution_count": 11,
   "id": "00b19910-aeb4-4c05-8f53-47c8a9bf72e1",
   "metadata": {},
   "outputs": [],
   "source": [
    "#drop the values with null values\n",
    "data.dropna(inplace=True)"
   ]
  },
  {
   "cell_type": "code",
   "execution_count": 12,
   "id": "d3ffd68d-1eec-485b-8f7c-bd76b1e1d0ec",
   "metadata": {},
   "outputs": [
    {
     "data": {
      "text/plain": [
       "(3919, 12)"
      ]
     },
     "execution_count": 12,
     "metadata": {},
     "output_type": "execute_result"
    }
   ],
   "source": [
    "data.shape"
   ]
  },
  {
   "cell_type": "code",
   "execution_count": 13,
   "id": "1b43dd73-1fd9-4543-921d-1ca6856581ca",
   "metadata": {},
   "outputs": [
    {
     "data": {
      "text/html": [
       "<div>\n",
       "<style scoped>\n",
       "    .dataframe tbody tr th:only-of-type {\n",
       "        vertical-align: middle;\n",
       "    }\n",
       "\n",
       "    .dataframe tbody tr th {\n",
       "        vertical-align: top;\n",
       "    }\n",
       "\n",
       "    .dataframe thead th {\n",
       "        text-align: right;\n",
       "    }\n",
       "</style>\n",
       "<table border=\"1\" class=\"dataframe\">\n",
       "  <thead>\n",
       "    <tr style=\"text-align: right;\">\n",
       "      <th></th>\n",
       "      <th>Open</th>\n",
       "      <th>High</th>\n",
       "      <th>Low</th>\n",
       "      <th>Close</th>\n",
       "      <th>Adj Close</th>\n",
       "      <th>Volume</th>\n",
       "      <th>EMA_5</th>\n",
       "      <th>EMA_10</th>\n",
       "      <th>EMA_20</th>\n",
       "      <th>EMA_50</th>\n",
       "      <th>EMA_100</th>\n",
       "      <th>EMA_200</th>\n",
       "    </tr>\n",
       "    <tr>\n",
       "      <th>Date</th>\n",
       "      <th></th>\n",
       "      <th></th>\n",
       "      <th></th>\n",
       "      <th></th>\n",
       "      <th></th>\n",
       "      <th></th>\n",
       "      <th></th>\n",
       "      <th></th>\n",
       "      <th></th>\n",
       "      <th></th>\n",
       "      <th></th>\n",
       "      <th></th>\n",
       "    </tr>\n",
       "  </thead>\n",
       "  <tbody>\n",
       "    <tr>\n",
       "      <th>2008-07-07</th>\n",
       "      <td>4002.000000</td>\n",
       "      <td>4114.500000</td>\n",
       "      <td>4002.000000</td>\n",
       "      <td>4030.000000</td>\n",
       "      <td>4030.000000</td>\n",
       "      <td>0</td>\n",
       "      <td>3992.370020</td>\n",
       "      <td>4089.865015</td>\n",
       "      <td>4292.729993</td>\n",
       "      <td>4696.748003</td>\n",
       "      <td>4806.760994</td>\n",
       "      <td>5210.716744</td>\n",
       "    </tr>\n",
       "    <tr>\n",
       "      <th>2008-07-08</th>\n",
       "      <td>4028.699951</td>\n",
       "      <td>4028.699951</td>\n",
       "      <td>3896.050049</td>\n",
       "      <td>3988.550049</td>\n",
       "      <td>3988.550049</td>\n",
       "      <td>0</td>\n",
       "      <td>4010.730029</td>\n",
       "      <td>4069.610010</td>\n",
       "      <td>4269.667505</td>\n",
       "      <td>4674.285000</td>\n",
       "      <td>4795.442993</td>\n",
       "      <td>5208.186245</td>\n",
       "    </tr>\n",
       "    <tr>\n",
       "      <th>2008-07-09</th>\n",
       "      <td>3990.899902</td>\n",
       "      <td>4169.399902</td>\n",
       "      <td>3990.899902</td>\n",
       "      <td>4157.100098</td>\n",
       "      <td>4157.100098</td>\n",
       "      <td>0</td>\n",
       "      <td>4023.480029</td>\n",
       "      <td>4060.055029</td>\n",
       "      <td>4251.342505</td>\n",
       "      <td>4655.634004</td>\n",
       "      <td>4788.443994</td>\n",
       "      <td>5206.240745</td>\n",
       "    </tr>\n",
       "    <tr>\n",
       "      <th>2008-07-10</th>\n",
       "      <td>4155.649902</td>\n",
       "      <td>4187.950195</td>\n",
       "      <td>4110.399902</td>\n",
       "      <td>4162.200195</td>\n",
       "      <td>4162.200195</td>\n",
       "      <td>0</td>\n",
       "      <td>4070.770068</td>\n",
       "      <td>4044.690039</td>\n",
       "      <td>4232.485010</td>\n",
       "      <td>4634.968008</td>\n",
       "      <td>4781.683496</td>\n",
       "      <td>5203.389995</td>\n",
       "    </tr>\n",
       "    <tr>\n",
       "      <th>2008-07-11</th>\n",
       "      <td>4166.000000</td>\n",
       "      <td>4215.500000</td>\n",
       "      <td>4014.449951</td>\n",
       "      <td>4049.000000</td>\n",
       "      <td>4049.000000</td>\n",
       "      <td>0</td>\n",
       "      <td>4077.370068</td>\n",
       "      <td>4035.925049</td>\n",
       "      <td>4209.080005</td>\n",
       "      <td>4612.630010</td>\n",
       "      <td>4772.878994</td>\n",
       "      <td>5199.897246</td>\n",
       "    </tr>\n",
       "  </tbody>\n",
       "</table>\n",
       "</div>"
      ],
      "text/plain": [
       "                   Open         High          Low        Close    Adj Close  \\\n",
       "Date                                                                          \n",
       "2008-07-07  4002.000000  4114.500000  4002.000000  4030.000000  4030.000000   \n",
       "2008-07-08  4028.699951  4028.699951  3896.050049  3988.550049  3988.550049   \n",
       "2008-07-09  3990.899902  4169.399902  3990.899902  4157.100098  4157.100098   \n",
       "2008-07-10  4155.649902  4187.950195  4110.399902  4162.200195  4162.200195   \n",
       "2008-07-11  4166.000000  4215.500000  4014.449951  4049.000000  4049.000000   \n",
       "\n",
       "            Volume        EMA_5       EMA_10       EMA_20       EMA_50  \\\n",
       "Date                                                                     \n",
       "2008-07-07       0  3992.370020  4089.865015  4292.729993  4696.748003   \n",
       "2008-07-08       0  4010.730029  4069.610010  4269.667505  4674.285000   \n",
       "2008-07-09       0  4023.480029  4060.055029  4251.342505  4655.634004   \n",
       "2008-07-10       0  4070.770068  4044.690039  4232.485010  4634.968008   \n",
       "2008-07-11       0  4077.370068  4035.925049  4209.080005  4612.630010   \n",
       "\n",
       "                EMA_100      EMA_200  \n",
       "Date                                  \n",
       "2008-07-07  4806.760994  5210.716744  \n",
       "2008-07-08  4795.442993  5208.186245  \n",
       "2008-07-09  4788.443994  5206.240745  \n",
       "2008-07-10  4781.683496  5203.389995  \n",
       "2008-07-11  4772.878994  5199.897246  "
      ]
     },
     "execution_count": 13,
     "metadata": {},
     "output_type": "execute_result"
    }
   ],
   "source": [
    "data.head(5)"
   ]
  },
  {
   "cell_type": "code",
   "execution_count": 14,
   "id": "b16d1feb-3a3c-4a57-9d31-e72ec8ad8bdd",
   "metadata": {},
   "outputs": [
    {
     "name": "stdout",
     "output_type": "stream",
     "text": [
      "Requirement already satisfied: seaborn in c:\\users\\amruta\\.conda\\envs\\mytensor_env\\lib\\site-packages (0.12.2)\n",
      "Requirement already satisfied: matplotlib in c:\\users\\amruta\\.conda\\envs\\mytensor_env\\lib\\site-packages (3.8.0)\n",
      "Requirement already satisfied: numpy!=1.24.0,>=1.17 in c:\\users\\amruta\\.conda\\envs\\mytensor_env\\lib\\site-packages (from seaborn) (1.26.4)\n",
      "Requirement already satisfied: pandas>=0.25 in c:\\users\\amruta\\.conda\\envs\\mytensor_env\\lib\\site-packages (from seaborn) (2.1.4)\n",
      "Requirement already satisfied: contourpy>=1.0.1 in c:\\users\\amruta\\.conda\\envs\\mytensor_env\\lib\\site-packages (from matplotlib) (1.2.0)\n",
      "Requirement already satisfied: cycler>=0.10 in c:\\users\\amruta\\.conda\\envs\\mytensor_env\\lib\\site-packages (from matplotlib) (0.11.0)\n",
      "Requirement already satisfied: fonttools>=4.22.0 in c:\\users\\amruta\\.conda\\envs\\mytensor_env\\lib\\site-packages (from matplotlib) (4.25.0)\n",
      "Requirement already satisfied: kiwisolver>=1.0.1 in c:\\users\\amruta\\.conda\\envs\\mytensor_env\\lib\\site-packages (from matplotlib) (1.4.4)\n",
      "Requirement already satisfied: packaging>=20.0 in c:\\users\\amruta\\.conda\\envs\\mytensor_env\\lib\\site-packages (from matplotlib) (23.1)\n",
      "Requirement already satisfied: pillow>=6.2.0 in c:\\users\\amruta\\.conda\\envs\\mytensor_env\\lib\\site-packages (from matplotlib) (10.2.0)\n",
      "Requirement already satisfied: pyparsing>=2.3.1 in c:\\users\\amruta\\.conda\\envs\\mytensor_env\\lib\\site-packages (from matplotlib) (3.0.9)\n",
      "Requirement already satisfied: python-dateutil>=2.7 in c:\\users\\amruta\\.conda\\envs\\mytensor_env\\lib\\site-packages (from matplotlib) (2.8.2)\n",
      "Requirement already satisfied: pytz>=2020.1 in c:\\users\\amruta\\.conda\\envs\\mytensor_env\\lib\\site-packages (from pandas>=0.25->seaborn) (2023.3.post1)\n",
      "Requirement already satisfied: tzdata>=2022.1 in c:\\users\\amruta\\.conda\\envs\\mytensor_env\\lib\\site-packages (from pandas>=0.25->seaborn) (2023.3)\n",
      "Requirement already satisfied: six>=1.5 in c:\\users\\amruta\\.conda\\envs\\mytensor_env\\lib\\site-packages (from python-dateutil>=2.7->matplotlib) (1.16.0)\n",
      "Note: you may need to restart the kernel to use updated packages.\n"
     ]
    }
   ],
   "source": [
    "pip install seaborn matplotlib"
   ]
  },
  {
   "cell_type": "code",
   "execution_count": 15,
   "id": "ca9e67c3-e2d3-4aec-81ca-17111bab0aef",
   "metadata": {},
   "outputs": [
    {
     "data": {
      "image/png": "[encoded data removed]",
      "text/plain": [
       "<Figure size 1000x800 with 2 Axes>"
      ]
     },
     "metadata": {},
     "output_type": "display_data"
    }
   ],
   "source": [
    "# Calculate Correlation Matrix\n",
    "correlation_matrix = data.corr()\n",
    "\n",
    "#display Correlation matrix as heatmap\n",
    "plt.figure(figsize=(10,8))\n",
    "sns.heatmap(correlation_matrix, annot=True, cmap = 'coolwarm', center =0)\n",
    "plt.title('correlation Heatmap')\n",
    "plt.grid(False)\n",
    "plt.show()"
   ]
  },
  {
   "cell_type": "markdown",
   "id": "b1396737-9814-491b-8b7e-e62787ae262a",
   "metadata": {},
   "source": [
    "**Insight:**\n",
    "\n",
    "Above HeatMap Shows Columns of Whole Data are Highly Corelated Except Volume Column"
   ]
  },
  {
   "cell_type": "code",
   "execution_count": 16,
   "id": "2f1cf1f5-53ed-4713-891b-be485524047d",
   "metadata": {},
   "outputs": [],
   "source": [
    "X = data[['Open', 'High', 'Low', 'Close', 'Volume', 'EMA_5', 'EMA_10', 'EMA_20', 'EMA_50', 'EMA_100', 'EMA_200']]\n",
    "y = data['Close']"
   ]
  },
  {
   "cell_type": "code",
   "execution_count": 17,
   "id": "534c46a0-8221-42c1-bed1-eb03aba2979a",
   "metadata": {},
   "outputs": [
    {
     "data": {
      "text/html": [
       "<div>\n",
       "<style scoped>\n",
       "    .dataframe tbody tr th:only-of-type {\n",
       "        vertical-align: middle;\n",
       "    }\n",
       "\n",
       "    .dataframe tbody tr th {\n",
       "        vertical-align: top;\n",
       "    }\n",
       "\n",
       "    .dataframe thead th {\n",
       "        text-align: right;\n",
       "    }\n",
       "</style>\n",
       "<table border=\"1\" class=\"dataframe\">\n",
       "  <thead>\n",
       "    <tr style=\"text-align: right;\">\n",
       "      <th></th>\n",
       "      <th>Open</th>\n",
       "      <th>High</th>\n",
       "      <th>Low</th>\n",
       "      <th>Close</th>\n",
       "      <th>Volume</th>\n",
       "      <th>EMA_5</th>\n",
       "      <th>EMA_10</th>\n",
       "      <th>EMA_20</th>\n",
       "      <th>EMA_50</th>\n",
       "      <th>EMA_100</th>\n",
       "      <th>EMA_200</th>\n",
       "    </tr>\n",
       "    <tr>\n",
       "      <th>Date</th>\n",
       "      <th></th>\n",
       "      <th></th>\n",
       "      <th></th>\n",
       "      <th></th>\n",
       "      <th></th>\n",
       "      <th></th>\n",
       "      <th></th>\n",
       "      <th></th>\n",
       "      <th></th>\n",
       "      <th></th>\n",
       "      <th></th>\n",
       "    </tr>\n",
       "  </thead>\n",
       "  <tbody>\n",
       "    <tr>\n",
       "      <th>2008-07-07</th>\n",
       "      <td>4002.000000</td>\n",
       "      <td>4114.500000</td>\n",
       "      <td>4002.000000</td>\n",
       "      <td>4030.000000</td>\n",
       "      <td>0</td>\n",
       "      <td>3992.370020</td>\n",
       "      <td>4089.865015</td>\n",
       "      <td>4292.729993</td>\n",
       "      <td>4696.748003</td>\n",
       "      <td>4806.760994</td>\n",
       "      <td>5210.716744</td>\n",
       "    </tr>\n",
       "    <tr>\n",
       "      <th>2008-07-08</th>\n",
       "      <td>4028.699951</td>\n",
       "      <td>4028.699951</td>\n",
       "      <td>3896.050049</td>\n",
       "      <td>3988.550049</td>\n",
       "      <td>0</td>\n",
       "      <td>4010.730029</td>\n",
       "      <td>4069.610010</td>\n",
       "      <td>4269.667505</td>\n",
       "      <td>4674.285000</td>\n",
       "      <td>4795.442993</td>\n",
       "      <td>5208.186245</td>\n",
       "    </tr>\n",
       "    <tr>\n",
       "      <th>2008-07-09</th>\n",
       "      <td>3990.899902</td>\n",
       "      <td>4169.399902</td>\n",
       "      <td>3990.899902</td>\n",
       "      <td>4157.100098</td>\n",
       "      <td>0</td>\n",
       "      <td>4023.480029</td>\n",
       "      <td>4060.055029</td>\n",
       "      <td>4251.342505</td>\n",
       "      <td>4655.634004</td>\n",
       "      <td>4788.443994</td>\n",
       "      <td>5206.240745</td>\n",
       "    </tr>\n",
       "    <tr>\n",
       "      <th>2008-07-10</th>\n",
       "      <td>4155.649902</td>\n",
       "      <td>4187.950195</td>\n",
       "      <td>4110.399902</td>\n",
       "      <td>4162.200195</td>\n",
       "      <td>0</td>\n",
       "      <td>4070.770068</td>\n",
       "      <td>4044.690039</td>\n",
       "      <td>4232.485010</td>\n",
       "      <td>4634.968008</td>\n",
       "      <td>4781.683496</td>\n",
       "      <td>5203.389995</td>\n",
       "    </tr>\n",
       "    <tr>\n",
       "      <th>2008-07-11</th>\n",
       "      <td>4166.000000</td>\n",
       "      <td>4215.500000</td>\n",
       "      <td>4014.449951</td>\n",
       "      <td>4049.000000</td>\n",
       "      <td>0</td>\n",
       "      <td>4077.370068</td>\n",
       "      <td>4035.925049</td>\n",
       "      <td>4209.080005</td>\n",
       "      <td>4612.630010</td>\n",
       "      <td>4772.878994</td>\n",
       "      <td>5199.897246</td>\n",
       "    </tr>\n",
       "  </tbody>\n",
       "</table>\n",
       "</div>"
      ],
      "text/plain": [
       "                   Open         High          Low        Close  Volume  \\\n",
       "Date                                                                     \n",
       "2008-07-07  4002.000000  4114.500000  4002.000000  4030.000000       0   \n",
       "2008-07-08  4028.699951  4028.699951  3896.050049  3988.550049       0   \n",
       "2008-07-09  3990.899902  4169.399902  3990.899902  4157.100098       0   \n",
       "2008-07-10  4155.649902  4187.950195  4110.399902  4162.200195       0   \n",
       "2008-07-11  4166.000000  4215.500000  4014.449951  4049.000000       0   \n",
       "\n",
       "                  EMA_5       EMA_10       EMA_20       EMA_50      EMA_100  \\\n",
       "Date                                                                          \n",
       "2008-07-07  3992.370020  4089.865015  4292.729993  4696.748003  4806.760994   \n",
       "2008-07-08  4010.730029  4069.610010  4269.667505  4674.285000  4795.442993   \n",
       "2008-07-09  4023.480029  4060.055029  4251.342505  4655.634004  4788.443994   \n",
       "2008-07-10  4070.770068  4044.690039  4232.485010  4634.968008  4781.683496   \n",
       "2008-07-11  4077.370068  4035.925049  4209.080005  4612.630010  4772.878994   \n",
       "\n",
       "                EMA_200  \n",
       "Date                     \n",
       "2008-07-07  5210.716744  \n",
       "2008-07-08  5208.186245  \n",
       "2008-07-09  5206.240745  \n",
       "2008-07-10  5203.389995  \n",
       "2008-07-11  5199.897246  "
      ]
     },
     "execution_count": 17,
     "metadata": {},
     "output_type": "execute_result"
    }
   ],
   "source": [
    "X.head(5)"
   ]
  },
  {
   "cell_type": "code",
   "execution_count": 18,
   "id": "2a35a882-7c62-46ca-bf5d-58453e125aef",
   "metadata": {},
   "outputs": [
    {
     "data": {
      "text/plain": [
       "Date\n",
       "2008-07-07    4030.000000\n",
       "2008-07-08    3988.550049\n",
       "2008-07-09    4157.100098\n",
       "2008-07-10    4162.200195\n",
       "2008-07-11    4049.000000\n",
       "Name: Close, dtype: float64"
      ]
     },
     "execution_count": 18,
     "metadata": {},
     "output_type": "execute_result"
    }
   ],
   "source": [
    "y.head(5)"
   ]
  },
  {
   "cell_type": "code",
   "execution_count": 19,
   "id": "80a82afe-31de-4655-b033-7a4e436f15a3",
   "metadata": {},
   "outputs": [
    {
     "data": {
      "image/png": "[encoded data removed]",
      "text/plain": [
       "<Figure size 1000x800 with 2 Axes>"
      ]
     },
     "metadata": {},
     "output_type": "display_data"
    }
   ],
   "source": [
    "correlation_matrix = X.corr()\n",
    "\n",
    "# Display correlation matrix as heatmap\n",
    "\n",
    "plt.figure(figsize=(10,8))\n",
    "sns.heatmap(correlation_matrix, annot=True, cmap = 'coolwarm', center=0)\n",
    "plt.title('Correlation Heatmap')\n",
    "plt.grid(False)\n",
    "plt.show()"
   ]
  },
  {
   "cell_type": "code",
   "execution_count": 20,
   "id": "d2616b89-ee90-43b5-a20b-91e42508e68e",
   "metadata": {},
   "outputs": [],
   "source": [
    "# Split the data into training and testing sets\n",
    "X_train,X_test,y_train,y_test = train_test_split(X,y,test_size = 0.20, random_state = 42)"
   ]
  },
  {
   "cell_type": "code",
   "execution_count": 21,
   "id": "18bc15b4-366d-49df-b8e2-1997f2b04bab",
   "metadata": {},
   "outputs": [
    {
     "data": {
      "text/plain": [
       "{'Linear Regression': Pipeline(steps=[('scaler', StandardScaler()),\n",
       "                 ('regressor', LinearRegression())]),\n",
       " 'Random Forest': Pipeline(steps=[('scaler', StandardScaler()),\n",
       "                 ('regressor', RandomForestRegressor())]),\n",
       " 'KNN': Pipeline(steps=[('scaler', StandardScaler()),\n",
       "                 ('regressor', KNeighborsRegressor())]),\n",
       " 'Elastic Net': Pipeline(steps=[('scaler', StandardScaler()), ('regressor', ElasticNet())])}"
      ]
     },
     "execution_count": 21,
     "metadata": {},
     "output_type": "execute_result"
    }
   ],
   "source": [
    "# Create pipelines for diffrent regression models\n",
    "pipelines = {\n",
    "    'Linear Regression': Pipeline([\n",
    "        ('scaler', StandardScaler()),\n",
    "        ('regressor', LinearRegression())\n",
    "    ]),\n",
    "    'Random Forest': Pipeline([\n",
    "        ('scaler', StandardScaler()),\n",
    "        ('regressor', RandomForestRegressor())\n",
    "    ]),\n",
    "    'KNN': Pipeline([\n",
    "        ('scaler', StandardScaler()),\n",
    "        ('regressor', KNeighborsRegressor())\n",
    "    ]),\n",
    "    'Elastic Net': Pipeline([\n",
    "        ('scaler', StandardScaler()),\n",
    "        ('regressor', ElasticNet())\n",
    "    ]),\n",
    "}\n",
    "\n",
    "pipelines"
   ]
  },
  {
   "cell_type": "markdown",
   "id": "1970d123-4dcf-4331-a9e1-27d6bd02f41b",
   "metadata": {},
   "source": [
    "**Hyperparameter tuning is done for finding the best combination of hyperparameters to achieve optimal performance. GridSearchCV systematically explores different hyperparameter combinations using cross-validation to find the best ones.**"
   ]
  },
  {
   "cell_type": "code",
   "execution_count": 22,
   "id": "fef19671-d16e-4b3c-9b30-999e8958ccd6",
   "metadata": {},
   "outputs": [
    {
     "data": {
      "text/html": [
       "<style>#sk-container-id-1 {color: black;}#sk-container-id-1 pre{padding: 0;}#sk-container-id-1 div.sk-toggleable {background-color: white;}#sk-container-id-1 label.sk-toggleable__label {cursor: pointer;display: block;width: 100%;margin-bottom: 0;padding: 0.3em;box-sizing: border-box;text-align: center;}#sk-container-id-1 label.sk-toggleable__label-arrow:before {content: \"▸\";float: left;margin-right: 0.25em;color: #696969;}#sk-container-id-1 label.sk-toggleable__label-arrow:hover:before {color: black;}#sk-container-id-1 div.sk-estimator:hover label.sk-toggleable__label-arrow:before {color: black;}#sk-container-id-1 div.sk-toggleable__content {max-height: 0;max-width: 0;overflow: hidden;text-align: left;background-color: #f0f8ff;}#sk-container-id-1 div.sk-toggleable__content pre {margin: 0.2em;color: black;border-radius: 0.25em;background-color: #f0f8ff;}#sk-container-id-1 input.sk-toggleable__control:checked~div.sk-toggleable__content {max-height: 200px;max-width: 100%;overflow: auto;}#sk-container-id-1 input.sk-toggleable__control:checked~label.sk-toggleable__label-arrow:before {content: \"▾\";}#sk-container-id-1 div.sk-estimator input.sk-toggleable__control:checked~label.sk-toggleable__label {background-color: #d4ebff;}#sk-container-id-1 div.sk-label input.sk-toggleable__control:checked~label.sk-toggleable__label {background-color: #d4ebff;}#sk-container-id-1 input.sk-hidden--visually {border: 0;clip: rect(1px 1px 1px 1px);clip: rect(1px, 1px, 1px, 1px);height: 1px;margin: -1px;overflow: hidden;padding: 0;position: absolute;width: 1px;}#sk-container-id-1 div.sk-estimator {font-family: monospace;background-color: #f0f8ff;border: 1px dotted black;border-radius: 0.25em;box-sizing: border-box;margin-bottom: 0.5em;}#sk-container-id-1 div.sk-estimator:hover {background-color: #d4ebff;}#sk-container-id-1 div.sk-parallel-item::after {content: \"\";width: 100%;border-bottom: 1px solid gray;flex-grow: 1;}#sk-container-id-1 div.sk-label:hover label.sk-toggleable__label {background-color: #d4ebff;}#sk-container-id-1 div.sk-serial::before {content: \"\";position: absolute;border-left: 1px solid gray;box-sizing: border-box;top: 0;bottom: 0;left: 50%;z-index: 0;}#sk-container-id-1 div.sk-serial {display: flex;flex-direction: column;align-items: center;background-color: white;padding-right: 0.2em;padding-left: 0.2em;position: relative;}#sk-container-id-1 div.sk-item {position: relative;z-index: 1;}#sk-container-id-1 div.sk-parallel {display: flex;align-items: stretch;justify-content: center;background-color: white;position: relative;}#sk-container-id-1 div.sk-item::before, #sk-container-id-1 div.sk-parallel-item::before {content: \"\";position: absolute;border-left: 1px solid gray;box-sizing: border-box;top: 0;bottom: 0;left: 50%;z-index: -1;}#sk-container-id-1 div.sk-parallel-item {display: flex;flex-direction: column;z-index: 1;position: relative;background-color: white;}#sk-container-id-1 div.sk-parallel-item:first-child::after {align-self: flex-end;width: 50%;}#sk-container-id-1 div.sk-parallel-item:last-child::after {align-self: flex-start;width: 50%;}#sk-container-id-1 div.sk-parallel-item:only-child::after {width: 0;}#sk-container-id-1 div.sk-dashed-wrapped {border: 1px dashed gray;margin: 0 0.4em 0.5em 0.4em;box-sizing: border-box;padding-bottom: 0.4em;background-color: white;}#sk-container-id-1 div.sk-label label {font-family: monospace;font-weight: bold;display: inline-block;line-height: 1.2em;}#sk-container-id-1 div.sk-label-container {text-align: center;}#sk-container-id-1 div.sk-container {/* jupyter's `normalize.less` sets `[hidden] { display: none; }` but bootstrap.min.css set `[hidden] { display: none !important; }` so we also need the `!important` here to be able to override the default hidden behavior on the sphinx rendered scikit-learn.org. See: https://github.com/scikit-learn/scikit-learn/issues/21755 */display: inline-block !important;position: relative;}#sk-container-id-1 div.sk-text-repr-fallback {display: none;}</style><div id=\"sk-container-id-1\" class=\"sk-top-container\"><div class=\"sk-text-repr-fallback\"><pre>GridSearchCV(cv=5,\n",
       "             estimator=Pipeline(steps=[(&#x27;scaler&#x27;, StandardScaler()),\n",
       "                                       (&#x27;regressor&#x27;, ElasticNet())]),\n",
       "             param_grid={&#x27;regressor__alpha&#x27;: array([1.e-03, 1.e-02, 1.e-01, 1.e+00, 1.e+01, 1.e+02, 1.e+03]),\n",
       "                         &#x27;regressor__l1_ratio&#x27;: array([0. , 0.1, 0.2, 0.3, 0.4, 0.5, 0.6, 0.7, 0.8, 0.9, 1. ])},\n",
       "             scoring=&#x27;r2&#x27;)</pre><b>In a Jupyter environment, please rerun this cell to show the HTML representation or trust the notebook. <br />On GitHub, the HTML representation is unable to render, please try loading this page with nbviewer.org.</b></div><div class=\"sk-container\" hidden><div class=\"sk-item sk-dashed-wrapped\"><div class=\"sk-label-container\"><div class=\"sk-label sk-toggleable\"><input class=\"sk-toggleable__control sk-hidden--visually\" id=\"sk-estimator-id-1\" type=\"checkbox\" ><label for=\"sk-estimator-id-1\" class=\"sk-toggleable__label sk-toggleable__label-arrow\">GridSearchCV</label><div class=\"sk-toggleable__content\"><pre>GridSearchCV(cv=5,\n",
       "             estimator=Pipeline(steps=[(&#x27;scaler&#x27;, StandardScaler()),\n",
       "                                       (&#x27;regressor&#x27;, ElasticNet())]),\n",
       "             param_grid={&#x27;regressor__alpha&#x27;: array([1.e-03, 1.e-02, 1.e-01, 1.e+00, 1.e+01, 1.e+02, 1.e+03]),\n",
       "                         &#x27;regressor__l1_ratio&#x27;: array([0. , 0.1, 0.2, 0.3, 0.4, 0.5, 0.6, 0.7, 0.8, 0.9, 1. ])},\n",
       "             scoring=&#x27;r2&#x27;)</pre></div></div></div><div class=\"sk-parallel\"><div class=\"sk-parallel-item\"><div class=\"sk-item\"><div class=\"sk-label-container\"><div class=\"sk-label sk-toggleable\"><input class=\"sk-toggleable__control sk-hidden--visually\" id=\"sk-estimator-id-2\" type=\"checkbox\" ><label for=\"sk-estimator-id-2\" class=\"sk-toggleable__label sk-toggleable__label-arrow\">estimator: Pipeline</label><div class=\"sk-toggleable__content\"><pre>Pipeline(steps=[(&#x27;scaler&#x27;, StandardScaler()), (&#x27;regressor&#x27;, ElasticNet())])</pre></div></div></div><div class=\"sk-serial\"><div class=\"sk-item\"><div class=\"sk-serial\"><div class=\"sk-item\"><div class=\"sk-estimator sk-toggleable\"><input class=\"sk-toggleable__control sk-hidden--visually\" id=\"sk-estimator-id-3\" type=\"checkbox\" ><label for=\"sk-estimator-id-3\" class=\"sk-toggleable__label sk-toggleable__label-arrow\">StandardScaler</label><div class=\"sk-toggleable__content\"><pre>StandardScaler()</pre></div></div></div><div class=\"sk-item\"><div class=\"sk-estimator sk-toggleable\"><input class=\"sk-toggleable__control sk-hidden--visually\" id=\"sk-estimator-id-4\" type=\"checkbox\" ><label for=\"sk-estimator-id-4\" class=\"sk-toggleable__label sk-toggleable__label-arrow\">ElasticNet</label><div class=\"sk-toggleable__content\"><pre>ElasticNet()</pre></div></div></div></div></div></div></div></div></div></div></div></div>"
      ],
      "text/plain": [
       "GridSearchCV(cv=5,\n",
       "             estimator=Pipeline(steps=[('scaler', StandardScaler()),\n",
       "                                       ('regressor', ElasticNet())]),\n",
       "             param_grid={'regressor__alpha': array([1.e-03, 1.e-02, 1.e-01, 1.e+00, 1.e+01, 1.e+02, 1.e+03]),\n",
       "                         'regressor__l1_ratio': array([0. , 0.1, 0.2, 0.3, 0.4, 0.5, 0.6, 0.7, 0.8, 0.9, 1. ])},\n",
       "             scoring='r2')"
      ]
     },
     "execution_count": 22,
     "metadata": {},
     "output_type": "execute_result"
    }
   ],
   "source": [
    "# Perform hyperparameter tuning for Elastic Net\n",
    "# alpha controls the overall strength of regularization, and l1_ratio controls the mix of L1 and L2 regularization.\n",
    "param_grid = {\n",
    "    'regressor__alpha': np.logspace(-3, 3, 7),\n",
    "    'regressor__l1_ratio': np.linspace(0, 1, 11),\n",
    "}\n",
    "\n",
    "# Create the GridSearchCV object\n",
    "best_model = GridSearchCV(pipelines['Elastic Net'], param_grid, cv=5, scoring='r2')\n",
    "\n",
    "# Fit the model\n",
    "best_model.fit(X_train, y_train)"
   ]
  },
  {
   "cell_type": "code",
   "execution_count": 23,
   "id": "dcfad35f-19ff-4df8-ac14-21df6adca7da",
   "metadata": {},
   "outputs": [
    {
     "name": "stdout",
     "output_type": "stream",
     "text": [
      "Best Parameters: {'regressor__alpha': 0.01, 'regressor__l1_ratio': 0.8}\n",
      "Best CV Score: 0.9999244579787309\n"
     ]
    }
   ],
   "source": [
    "# Print the best parameters and the best score\n",
    "print(\"Best Parameters:\", best_model.best_params_)\n",
    "print(\"Best CV Score:\", best_model.best_score_)"
   ]
  },
  {
   "cell_type": "code",
   "execution_count": 24,
   "id": "5c8d39ec-b353-45e5-a308-83cf53cae9b5",
   "metadata": {},
   "outputs": [
    {
     "name": "stdout",
     "output_type": "stream",
     "text": [
      "Evaluation Result:\n",
      "Linear Regression: R2_score = 1.0000, MSE = 0.0000\n",
      "***************************************************************************\n",
      "Random Forest: R2_score = 1.0000, MSE = 347.2333\n",
      "***************************************************************************\n",
      "KNN: R2_score = 0.9996, MSE = 10594.0263\n",
      "***************************************************************************\n",
      "Elastic Net: R2_score = 0.9961, MSE = 93850.2026\n",
      "***************************************************************************\n"
     ]
    }
   ],
   "source": [
    "from sklearn.metrics import r2_score, mean_squared_error\n",
    "\n",
    "r2_scores = {}\n",
    "mse_scores = {}\n",
    "\n",
    "for name, pipeline in pipelines.items(): \n",
    "    pipeline.fit(X_train, y_train)\n",
    "    y_pred = pipeline.predict(X_test)\n",
    "    r2_scores[name] = r2_score(y_test, y_pred)\n",
    "    mse_scores[name] = mean_squared_error(y_test, y_pred)\n",
    "\n",
    "#(for statement in the above code is used to iterate over each defined pipeline, fit the models to the training data, make predictions on the test data, \n",
    "#calculate evaluation metrics (R² scores and MSE). This allows you to evaluate the performance of each model in a systematic way.)\n",
    "\n",
    "print(\"Evaluation Result:\")\n",
    "\n",
    "for name in pipelines.keys():\n",
    "    print(f\"{name}: R2_score = {r2_scores[name]:.4f}, MSE = {mse_scores[name]:.4f}\")\n",
    "    print(\"***************************************************************************\")"
   ]
  },
  {
   "cell_type": "markdown",
   "id": "79be1536-ab91-418e-8b2b-a68db93bd715",
   "metadata": {},
   "source": [
    "## Visualization and Comparision of models"
   ]
  },
  {
   "cell_type": "code",
   "execution_count": 25,
   "id": "586c11e5-2312-4217-8846-f18abb7c870c",
   "metadata": {},
   "outputs": [
    {
     "data": {
      "image/png": "[encoded data removed]",
      "text/plain": [
       "<Figure size 640x480 with 1 Axes>"
      ]
     },
     "metadata": {},
     "output_type": "display_data"
    }
   ],
   "source": [
    "## Plot r2 score for all model for comaprision\n",
    "plt.subplot(2,1,2)\n",
    "plt.bar(r2_scores.keys(), r2_scores.values(), color = 'green')\n",
    "plt.xlabel(\"Models\")\n",
    "plt.ylabel(\"R2 Scores\")\n",
    "plt.title(\"R2 Score comparision for Different Models\")\n",
    "plt.grid(False)\n",
    "plt.tight_layout()\n",
    "plt.show()"
   ]
  },
  {
   "cell_type": "code",
   "execution_count": 26,
   "id": "24798ca3-89af-464c-bfec-0b5cedaee202",
   "metadata": {},
   "outputs": [
    {
     "data": {
      "image/png": "[encoded data removed]",
      "text/plain": [
       "<Figure size 640x480 with 1 Axes>"
      ]
     },
     "metadata": {},
     "output_type": "display_data"
    }
   ],
   "source": [
    "## Plot r2 score for all model for comaprision\n",
    "plt.subplot(2,1,2)\n",
    "#plt.bar(r2_scores.keys(), r2_scores.values(), color = 'green')\n",
    "plt.bar(mse_scores.keys(), mse_scores.values(), color = 'b')\n",
    "plt.xlabel(\"Models\")\n",
    "#plt.ylabel(\"R2 Scores\")\n",
    "plt.ylabel(\"MSE Scores\")\n",
    "plt.title(\"MSE Score comparision for Different Models\")\n",
    "plt.grid(False)\n",
    "plt.tight_layout()\n",
    "plt.show()"
   ]
  },
  {
   "cell_type": "markdown",
   "id": "064f1795-1ba4-4278-b941-6f412a2cce81",
   "metadata": {},
   "source": [
    "## LSTM model)"
   ]
  },
  {
   "cell_type": "code",
   "execution_count": 27,
   "id": "d0c5a2f3-3180-4656-81d0-a8792be40e0d",
   "metadata": {},
   "outputs": [
    {
     "name": "stdout",
     "output_type": "stream",
     "text": [
      "Epoch 1/100\n",
      "157/157 [==============================] - 15s 18ms/step - loss: 124410688.0000\n",
      "Epoch 2/100\n",
      "157/157 [==============================] - 3s 19ms/step - loss: 120426144.0000\n",
      "Epoch 3/100\n",
      "157/157 [==============================] - 3s 18ms/step - loss: 113856904.0000\n",
      "Epoch 4/100\n",
      "157/157 [==============================] - 3s 16ms/step - loss: 105102248.0000\n",
      "Epoch 5/100\n",
      "157/157 [==============================] - 2s 15ms/step - loss: 94836552.0000\n",
      "Epoch 6/100\n",
      "157/157 [==============================] - 2s 15ms/step - loss: 83818664.0000\n",
      "Epoch 7/100\n",
      "157/157 [==============================] - 2s 15ms/step - loss: 72768320.0000\n",
      "Epoch 8/100\n",
      "157/157 [==============================] - 2s 15ms/step - loss: 62299228.0000\n",
      "Epoch 9/100\n",
      "157/157 [==============================] - 2s 15ms/step - loss: 52913232.0000\n",
      "Epoch 10/100\n",
      "157/157 [==============================] - 2s 15ms/step - loss: 44971624.0000\n",
      "Epoch 11/100\n",
      "157/157 [==============================] - 2s 15ms/step - loss: 38657624.0000\n",
      "Epoch 12/100\n",
      "157/157 [==============================] - 2s 15ms/step - loss: 33921544.0000\n",
      "Epoch 13/100\n",
      "157/157 [==============================] - 2s 15ms/step - loss: 30619702.0000\n",
      "Epoch 14/100\n",
      "157/157 [==============================] - 2s 15ms/step - loss: 28496680.0000\n",
      "Epoch 15/100\n",
      "157/157 [==============================] - 2s 15ms/step - loss: 27232402.0000\n",
      "Epoch 16/100\n",
      "157/157 [==============================] - 2s 15ms/step - loss: 26536844.0000\n",
      "Epoch 17/100\n",
      "157/157 [==============================] - 2s 15ms/step - loss: 26184796.0000\n",
      "Epoch 18/100\n",
      "157/157 [==============================] - 2s 15ms/step - loss: 26027366.0000\n",
      "Epoch 19/100\n",
      "157/157 [==============================] - 2s 15ms/step - loss: 25964554.0000\n",
      "Epoch 20/100\n",
      "157/157 [==============================] - 2s 15ms/step - loss: 25941090.0000\n",
      "Epoch 21/100\n",
      "157/157 [==============================] - 2s 15ms/step - loss: 25933426.0000\n",
      "Epoch 22/100\n",
      "157/157 [==============================] - 2s 15ms/step - loss: 25933000.0000\n",
      "Epoch 23/100\n",
      "157/157 [==============================] - 2s 15ms/step - loss: 25932412.0000\n",
      "Epoch 24/100\n",
      "157/157 [==============================] - 2s 15ms/step - loss: 25928854.0000\n",
      "Epoch 25/100\n",
      "157/157 [==============================] - 2s 15ms/step - loss: 25930844.0000\n",
      "Epoch 26/100\n",
      "157/157 [==============================] - 2s 15ms/step - loss: 25232810.0000\n",
      "Epoch 27/100\n",
      "157/157 [==============================] - 3s 16ms/step - loss: 18373604.0000\n",
      "Epoch 28/100\n",
      "157/157 [==============================] - 2s 16ms/step - loss: 17360778.0000\n",
      "Epoch 29/100\n",
      "157/157 [==============================] - 2s 16ms/step - loss: 17020630.0000\n",
      "Epoch 30/100\n",
      "157/157 [==============================] - 2s 15ms/step - loss: 16920138.0000\n",
      "Epoch 31/100\n",
      "157/157 [==============================] - 2s 15ms/step - loss: 16887704.0000\n",
      "Epoch 32/100\n",
      "157/157 [==============================] - 2s 15ms/step - loss: 16875988.0000\n",
      "Epoch 33/100\n",
      "157/157 [==============================] - 2s 15ms/step - loss: 16871038.0000\n",
      "Epoch 34/100\n",
      "157/157 [==============================] - 2s 15ms/step - loss: 16871180.0000\n",
      "Epoch 35/100\n",
      "157/157 [==============================] - 2s 15ms/step - loss: 16872688.0000\n",
      "Epoch 36/100\n",
      "157/157 [==============================] - 2s 15ms/step - loss: 16871678.0000\n",
      "Epoch 37/100\n",
      "157/157 [==============================] - 2s 15ms/step - loss: 16872010.0000\n",
      "Epoch 38/100\n",
      "157/157 [==============================] - 2s 15ms/step - loss: 16874320.0000\n",
      "Epoch 39/100\n",
      "157/157 [==============================] - 2s 15ms/step - loss: 16871544.0000\n",
      "Epoch 40/100\n",
      "157/157 [==============================] - 2s 15ms/step - loss: 16870398.0000\n",
      "Epoch 41/100\n",
      "157/157 [==============================] - 3s 17ms/step - loss: 16871596.0000\n",
      "Epoch 42/100\n",
      "157/157 [==============================] - 3s 16ms/step - loss: 16870764.0000\n",
      "Epoch 43/100\n",
      "157/157 [==============================] - 2s 16ms/step - loss: 16873998.0000\n",
      "Epoch 44/100\n",
      "157/157 [==============================] - 3s 19ms/step - loss: 16872896.0000\n",
      "Epoch 45/100\n",
      "157/157 [==============================] - 3s 16ms/step - loss: 16870988.0000\n",
      "Epoch 46/100\n",
      "157/157 [==============================] - 3s 16ms/step - loss: 16872334.0000\n",
      "Epoch 47/100\n",
      "157/157 [==============================] - 3s 19ms/step - loss: 16871840.0000\n",
      "Epoch 48/100\n",
      "157/157 [==============================] - 4s 25ms/step - loss: 16874956.0000\n",
      "Epoch 49/100\n",
      "157/157 [==============================] - 3s 17ms/step - loss: 16872750.0000\n",
      "Epoch 50/100\n",
      "157/157 [==============================] - 2s 16ms/step - loss: 16871222.0000\n",
      "Epoch 51/100\n",
      "157/157 [==============================] - 3s 16ms/step - loss: 16872242.0000\n",
      "Epoch 52/100\n",
      "157/157 [==============================] - 3s 18ms/step - loss: 16870930.0000\n",
      "Epoch 53/100\n",
      "157/157 [==============================] - 2s 16ms/step - loss: 16871426.0000\n",
      "Epoch 54/100\n",
      "157/157 [==============================] - 3s 16ms/step - loss: 16874042.0000\n",
      "Epoch 55/100\n",
      "157/157 [==============================] - 2s 16ms/step - loss: 16869868.0000\n",
      "Epoch 56/100\n",
      "157/157 [==============================] - 3s 16ms/step - loss: 16870210.0000\n",
      "Epoch 57/100\n",
      "157/157 [==============================] - 3s 16ms/step - loss: 16871508.0000\n",
      "Epoch 58/100\n",
      "157/157 [==============================] - 2s 15ms/step - loss: 16870812.0000\n",
      "Epoch 59/100\n",
      "157/157 [==============================] - 2s 15ms/step - loss: 16872122.0000\n",
      "Epoch 60/100\n",
      "157/157 [==============================] - 3s 16ms/step - loss: 16872006.0000\n",
      "Epoch 61/100\n",
      "157/157 [==============================] - 2s 16ms/step - loss: 16870782.0000\n",
      "Epoch 62/100\n",
      "157/157 [==============================] - 2s 15ms/step - loss: 16874550.0000\n",
      "Epoch 63/100\n",
      "157/157 [==============================] - 2s 15ms/step - loss: 16874964.0000\n",
      "Epoch 64/100\n",
      "157/157 [==============================] - 2s 15ms/step - loss: 16872500.0000\n",
      "Epoch 65/100\n",
      "157/157 [==============================] - 2s 15ms/step - loss: 16870690.0000\n",
      "Epoch 66/100\n",
      "157/157 [==============================] - 2s 15ms/step - loss: 16871162.0000\n",
      "Epoch 67/100\n",
      "157/157 [==============================] - 2s 15ms/step - loss: 16872182.0000\n",
      "Epoch 68/100\n",
      "157/157 [==============================] - 2s 15ms/step - loss: 16873130.0000\n",
      "Epoch 69/100\n",
      "157/157 [==============================] - 2s 15ms/step - loss: 16871520.0000\n",
      "Epoch 70/100\n",
      "157/157 [==============================] - 2s 15ms/step - loss: 16872590.0000\n",
      "Epoch 71/100\n",
      "157/157 [==============================] - 2s 15ms/step - loss: 16872910.0000\n",
      "Epoch 72/100\n",
      "157/157 [==============================] - 2s 15ms/step - loss: 16869230.0000\n",
      "Epoch 73/100\n",
      "157/157 [==============================] - 3s 19ms/step - loss: 16870380.0000\n",
      "Epoch 74/100\n",
      "157/157 [==============================] - 3s 20ms/step - loss: 16871298.0000\n",
      "Epoch 75/100\n",
      "157/157 [==============================] - 3s 17ms/step - loss: 19219440.0000\n",
      "Epoch 76/100\n",
      "157/157 [==============================] - 2s 15ms/step - loss: 17501268.0000\n",
      "Epoch 77/100\n",
      "157/157 [==============================] - 2s 15ms/step - loss: 16881460.0000\n",
      "Epoch 78/100\n",
      "157/157 [==============================] - 3s 18ms/step - loss: 16874788.0000\n",
      "Epoch 79/100\n",
      "157/157 [==============================] - 3s 18ms/step - loss: 16880236.0000\n",
      "Epoch 80/100\n",
      "157/157 [==============================] - 3s 18ms/step - loss: 16872168.0000\n",
      "Epoch 81/100\n",
      "157/157 [==============================] - 3s 18ms/step - loss: 16875774.0000\n",
      "Epoch 82/100\n",
      "157/157 [==============================] - 3s 17ms/step - loss: 16875764.0000\n",
      "Epoch 83/100\n",
      "157/157 [==============================] - 3s 17ms/step - loss: 16878110.0000\n",
      "Epoch 84/100\n",
      "157/157 [==============================] - 3s 19ms/step - loss: 16875476.0000\n",
      "Epoch 85/100\n",
      "157/157 [==============================] - 3s 17ms/step - loss: 16871536.0000\n",
      "Epoch 86/100\n",
      "157/157 [==============================] - 3s 18ms/step - loss: 16871288.0000\n",
      "Epoch 87/100\n",
      "157/157 [==============================] - 3s 18ms/step - loss: 16874720.0000\n",
      "Epoch 88/100\n",
      "157/157 [==============================] - 3s 17ms/step - loss: 16871826.0000\n",
      "Epoch 89/100\n",
      "157/157 [==============================] - 3s 17ms/step - loss: 16871714.0000\n",
      "Epoch 90/100\n",
      "157/157 [==============================] - 3s 18ms/step - loss: 16874200.0000\n",
      "Epoch 91/100\n",
      "157/157 [==============================] - 3s 17ms/step - loss: 16871482.0000\n",
      "Epoch 92/100\n",
      "157/157 [==============================] - 3s 18ms/step - loss: 16872798.0000\n",
      "Epoch 93/100\n",
      "157/157 [==============================] - 3s 18ms/step - loss: 16873634.0000\n",
      "Epoch 94/100\n",
      "157/157 [==============================] - 3s 17ms/step - loss: 16872556.0000\n",
      "Epoch 95/100\n",
      "157/157 [==============================] - 3s 18ms/step - loss: 16871172.0000\n",
      "Epoch 96/100\n",
      "157/157 [==============================] - 3s 17ms/step - loss: 16873392.0000\n",
      "Epoch 97/100\n",
      "157/157 [==============================] - 3s 18ms/step - loss: 16873074.0000\n",
      "Epoch 98/100\n",
      "157/157 [==============================] - 3s 18ms/step - loss: 16874492.0000\n",
      "Epoch 99/100\n",
      "157/157 [==============================] - 3s 18ms/step - loss: 16870860.0000\n",
      "Epoch 100/100\n",
      "157/157 [==============================] - 3s 18ms/step - loss: 16871944.0000\n"
     ]
    },
    {
     "data": {
      "text/plain": [
       "<keras.callbacks.History at 0x216559d69b0>"
      ]
     },
     "execution_count": 27,
     "metadata": {},
     "output_type": "execute_result"
    }
   ],
   "source": [
    "#This reshaping is necessary because LSTM models expect input in the shape of (samples, time steps, features)\n",
    "X_train_lstm = np.reshape(X_train.values, (X_train.shape[0], X_train.shape[1], 1))\n",
    "X_test_lstm = np.reshape(X_test.values,(X_test.shape[0], X_test.shape[1], 1))\n",
    "\n",
    "\n",
    "model = Sequential()\n",
    "model.add(LSTM(units =50, return_sequences = True, input_shape = (X_train_lstm.shape[1], 1)))\n",
    "model.add(LSTM(units =50, return_sequences = False))\n",
    "model.add(Dense(units =25))\n",
    "model.add(Dense(units =1))\n",
    "\n",
    "#adam is an optimizer adam=adaptive momentum\n",
    "model.compile(optimizer = 'adam', loss = 'mean_squared_error')\n",
    "model.fit(X_train_lstm, y_train, batch_size =20, epochs = 100)"
   ]
  },
  {
   "cell_type": "code",
   "execution_count": 29,
   "id": "4677de7b-7686-4d7e-905d-add0bfe840df",
   "metadata": {},
   "outputs": [
    {
     "name": "stdout",
     "output_type": "stream",
     "text": [
      "25/25 [==============================] - 0s 9ms/step\n",
      "LSTM R2 Score : 0.4016\n",
      "LSTM Mean Squared Error : 14414153.9438\n"
     ]
    }
   ],
   "source": [
    "# Evaluate the LSTM Model\n",
    "y_pred_lstm = model.predict(X_test_lstm)\n",
    "r2_lstm = r2_score(y_test,y_pred_lstm)\n",
    "MSE_lstm = mean_squared_error(y_test, y_pred_lstm)\n",
    "print(f\"LSTM R2 Score : {r2_lstm :.4f}\")\n",
    "print(f\"LSTM Mean Squared Error : {MSE_lstm:.4f}\")"
   ]
  },
  {
   "cell_type": "markdown",
   "id": "5b124bc7-afe2-4187-afe9-5048431fd5f6",
   "metadata": {},
   "source": [
    "## Choose a specific day for prediction"
   ]
  },
  {
   "cell_type": "code",
   "execution_count": 49,
   "id": "3d5d99e3-9647-4f86-9eae-4994670e75fd",
   "metadata": {},
   "outputs": [],
   "source": [
    "specific_day = '2023-11-01'  #Adjust this date based on available data\n",
    "specific_day_data = data.loc[specific_day]"
   ]
  },
  {
   "cell_type": "code",
   "execution_count": 50,
   "id": "b0b52fd5-c64b-49c5-adad-ca3f1a94669f",
   "metadata": {},
   "outputs": [
    {
     "name": "stdout",
     "output_type": "stream",
     "text": [
      "1/1 [==============================] - 0s 64ms/step\n"
     ]
    }
   ],
   "source": [
    "#  Predict the closing price for the specific day using each model\n",
    "\n",
    "predicted_prices = {}\n",
    "for name,pipeline in pipelines.items():\n",
    "    predicted_price = pipeline.predict([specific_day_data[['Open', 'High', 'Low', 'Close', 'Volume', 'EMA_5', 'EMA_10', 'EMA_20', 'EMA_50', 'EMA_100', 'EMA_200']]])\n",
    "    predicted_prices[name] = predicted_price[0]\n",
    "\n",
    "lstm_input = np.reshape(specific_day_data[['Open', 'High', 'Low', 'Close', 'Volume', 'EMA_5', 'EMA_10', 'EMA_20', 'EMA_50', 'EMA_100', 'EMA_200']].values, (1,X.shape[1],1))\n",
    "lstm_predicted_price = model.predict(lstm_input)[0][0]\n",
    "predicted_prices['LSTM'] = lstm_predicted_price\n",
    "\n",
    "actual_price = specific_day_data['Close']"
   ]
  },
  {
   "cell_type": "code",
   "execution_count": 57,
   "id": "46b5727d-fa45-4630-8f5c-38d108555cdc",
   "metadata": {},
   "outputs": [
    {
     "name": "stdout",
     "output_type": "stream",
     "text": [
      "Actual price on 2023-11-01: 18989.15\n",
      "predicted_prices:\n",
      "Linear Regression: 18989.15\n",
      "Random Forest: 19026.73\n",
      "KNN: 19162.92\n",
      "Elastic Net: 18850.89\n",
      "LSTM: 11857.49\n"
     ]
    }
   ],
   "source": [
    "# Print predicted and actual prices for the specific day\n",
    "print(f\"Actual price on {specific_day}: {actual_price:.2f}\")\n",
    "\n",
    "print(\"predicted_prices:\")\n",
    "for name, price in predicted_prices.items():\n",
    "    print(f\"{name}: {price:.2f}\")"
   ]
  },
  {
   "cell_type": "code",
   "execution_count": 62,
   "id": "4ab869ef-ecad-4b8d-97f6-e02e32b63e7e",
   "metadata": {},
   "outputs": [
    {
     "data": {
      "image/png": "[encoded data removed]",
      "text/plain": [
       "<Figure size 1200x800 with 1 Axes>"
      ]
     },
     "metadata": {},
     "output_type": "display_data"
    }
   ],
   "source": [
    "# Plot actual vs. predicted values for the specific day\n",
    "plt.figure(figsize=(12, 8))\n",
    "\n",
    "# Plot predicted prices\n",
    "plt.plot(predicted_prices.keys(), predicted_prices.values(), marker='o', label='Predicted')\n",
    "\n",
    "# Plot the actual price as a horizontal line\n",
    "plt.axhline(y=actual_price, label='Actual', linestyle='-', color='r')\n",
    "\n",
    "# Add labels and title\n",
    "plt.xlabel(\"Models\")\n",
    "plt.ylabel(\"Stock Prices\")\n",
    "plt.title(f\"Actual vs. Predicted Stock Price on {specific_day}\")\n",
    "plt.legend()\n",
    "\n",
    "# Show the plot\n",
    "plt.show()"
   ]
  },
  {
   "cell_type": "markdown",
   "id": "42c3b6e9-eed0-4eed-8b7d-cba33afa446e",
   "metadata": {},
   "source": [
    "## Analysis:\n",
    "\n",
    "**Linear Regression, Random Forest, and KNN:** \n",
    "These models have predicted prices close to the actual price, showing good prediction accuracy.\n",
    "\n",
    "**Elastic Net:**\n",
    "This model's prediction is slightly lower than the actual price but still relatively close.\n",
    "\n",
    "**LSTM:**\n",
    "The LSTM model's prediction is significantly lower than the actual price, indicating a poor prediction for this specific day.\n",
    "\n",
    "## Conclusion:\n",
    "\n",
    "**Best Performing Models:**\n",
    "Linear Regression, Random Forest, and KNN models perform well as their predictions are close to the actual price.\n",
    "\n",
    "**Poor Performing Model:**\n",
    "LSTM model's prediction is far from the actual price, suggesting it might not be the best model for this dataset or requires further tuning.\n",
    "\n",
    "## Next Steps:\n",
    "+ Investigate why the LSTM model is underperforming and consider additional tuning or different preprocessing steps.\n",
    "+ Depending on the application, the best-performing models (Linear Regression, Random Forest, and KNN) can be further analyzed or combined for better predictions."
   ]
  },
  {
   "cell_type": "markdown",
   "id": "eb343209-9b66-4ea4-80b4-cdcbaea9f105",
   "metadata": {},
   "source": [
    "## Choose a specific day for prediction"
   ]
  },
  {
   "cell_type": "code",
   "execution_count": 72,
   "id": "8b67d723-0b25-4139-8cfa-e21e863aec45",
   "metadata": {},
   "outputs": [
    {
     "name": "stdout",
     "output_type": "stream",
     "text": [
      "1/1 [==============================] - 0s 39ms/step\n",
      "Predicted prices for 2024-08-25: \n",
      "Linear Regression : 24320.55\n",
      "Random Forest : 24312.02\n",
      "KNN : 24008.46\n",
      "Elastic Net : 23231.34\n",
      "LSTM : 11857.49\n"
     ]
    }
   ],
   "source": [
    "future_date = \"2024-08-25\"  # Choose a future date beyond the available dataset\n",
    "future_data = data.iloc[-1:].copy()  # Use the last available data point as a template\n",
    "future_data.index = pd.to_datetime([future_date])  # Set the index to the chosen future date\n",
    "\n",
    "#  Predict the closing price for the future date using each model\n",
    "predicted_prices ={}\n",
    "for name, pipeline in pipelines.items():\n",
    "    model_X = pipeline.named_steps['scaler'].transform(future_data[['Open', 'High', 'Low', 'Close', 'Volume', 'EMA_5', 'EMA_10', 'EMA_20', 'EMA_50', 'EMA_100', 'EMA_200']])\n",
    "    future_prediction = pipeline.named_steps['regressor'].predict(model_X)\n",
    "    predicted_prices[name] = future_prediction[0]\n",
    "\n",
    "# LSTM model\n",
    "lstm_input = np.reshape(future_data[['Open', 'High', 'Low', 'Close', 'Volume', 'EMA_5', 'EMA_10', 'EMA_20', 'EMA_50', 'EMA_100', 'EMA_200']].values, (1, X.shape[1], 1))\n",
    "lstm_future_prediction = model.predict(lstm_input)[0][0]\n",
    "predicted_prices['LSTM'] = lstm_future_prediction\n",
    "\n",
    "#  Print predicted prices for the future date\n",
    "print(f\"Predicted prices for {future_date}: \")\n",
    "for name, price in predicted_prices.items():\n",
    "    print(f\"{name} : {price:.2f}\")"
   ]
  }
 ],
 "metadata": {
  "kernelspec": {
   "display_name": "Python 3 (ipykernel)",
   "language": "python",
   "name": "python3"
  },
  "language_info": {
   "codemirror_mode": {
    "name": "ipython",
    "version": 3
   },
   "file_extension": ".py",
   "mimetype": "text/x-python",
   "name": "python",
   "nbconvert_exporter": "python",
   "pygments_lexer": "ipython3",
   "version": "3.10.13"
  }
 },
 "nbformat": 4,
 "nbformat_minor": 5
}
